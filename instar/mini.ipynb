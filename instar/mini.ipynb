{
  "nbformat": 4,
  "nbformat_minor": 2,
  "metadata": {
    "colab": {
      "name": "nlp_union.ipynb",
      "provenance": [],
      "collapsed_sections": []
    },
    "kernelspec": {
      "name": "python3",
      "display_name": "Python 3.9.6 64-bit"
    },
    "language_info": {
      "name": "python",
      "version": "3.9.6",
      "mimetype": "text/x-python",
      "codemirror_mode": {
        "name": "ipython",
        "version": 3
      },
      "pygments_lexer": "ipython3",
      "nbconvert_exporter": "python",
      "file_extension": ".py"
    },
    "interpreter": {
      "hash": "9fe3a4d47c9285845cf1a46e71cf1145a5550d0332299a7e229cd664bb8ab9d8"
    }
  },
  "cells": [
    {
      "cell_type": "code",
      "execution_count": null,
      "source": [
        "!pip install konlpy\r\n",
        "!pip install wordcloud\r\n",
        "!pip install collection\r\n",
        "!pip install matplotlib\r\n",
        "!apt-get install fonts-nanum*\r\n",
        "!apt-get install fontconfig\r\n",
        "!pip install WordCloud\r\n",
        "\r\n",
        "!pip install openpylx\r\n"
      ],
      "outputs": [],
      "metadata": {
        "id": "6t3pbbriH0vy",
        "colab": {
          "base_uri": "https://localhost:8080/"
        },
        "outputId": "6abca6dd-44ce-4563-cb18-269b6b36dde7"
      }
    },
    {
      "cell_type": "code",
      "execution_count": null,
      "source": [
        "# 모듈 불러오기\r\n",
        "import matplotlib\r\n",
        "import pandas as pd\r\n",
        "from wordcloud import WordCloud\r\n",
        "import matplotlib.pyplot as plt\r\n",
        "from konlpy.tag import Okt\r\n",
        "import re\r\n",
        "from collections import Counter\r\n",
        "from matplotlib.pyplot import barh\r\n"
      ],
      "outputs": [],
      "metadata": {}
    },
    {
      "cell_type": "code",
      "execution_count": null,
      "source": [
        "\r\n",
        "#unnamed 컬럼이름 'num'으로 바꿔주기\r\n",
        "#lunch.rename(columns = {'Unnamed: 0': 'num'}, inplace=True)\r\n",
        "def rename_Unnamed(dataFrame):\r\n",
        "    dataFrame.rename(columns = {'Unnamed: 0': 'num'}, inplace=True)\r\n"
      ],
      "outputs": [],
      "metadata": {}
    },
    {
      "cell_type": "code",
      "execution_count": null,
      "source": [
        "\r\n",
        "#필터링 하기\r\n",
        "def filltering(dataFrame, column_name, string):\r\n",
        "    mask = dataFrame[column_name].str.contains(string)\r\n",
        "    result = dataFrame[mask]\r\n",
        "    return result"
      ],
      "outputs": [],
      "metadata": {}
    },
    {
      "cell_type": "code",
      "execution_count": null,
      "source": [
        "\r\n",
        "#text 합치기 \r\n",
        "def make_all_text(dataFrame, columnName):\r\n",
        "    dataFrame.reset_index(drop=True, inplace=True)\r\n",
        "    result = \"\"\r\n",
        "\r\n",
        "    if dataFrame[columnName][0][0] == '[':\r\n",
        "        for i in dataFrame.index:\r\n",
        "            text = \" \".join(dataFrame[columnName][i][1:-1].replace(' ', '').replace('\\'', '').split(','))\r\n",
        "            result = result + \" \" + text\r\n",
        "\r\n",
        "    else:\r\n",
        "        for i in dataFrame.index:\r\n",
        "            text = \"\".join(dataFrame[columnName][i])\r\n",
        "            result = result + \" \" + text\r\n",
        "    return result"
      ],
      "outputs": [],
      "metadata": {}
    },
    {
      "cell_type": "code",
      "execution_count": null,
      "source": [
        "\r\n",
        "#wordcloud 만들기\r\n",
        "#딕셔너리 or 텍스트 넣기\r\n",
        "def make_wordcloud(all_text):\r\n",
        "    wordcloud = WordCloud(\r\n",
        "        #font_path = 'C:\\\\Windows\\\\Fonts\\\\H2GTRE.TTF',\r\n",
        "        font_path = '/usr/share/fonts/truetype/nanum/NanumGothic.ttf',\r\n",
        "        width = 1600,\r\n",
        "        height = 900\r\n",
        "    )\r\n",
        "    \r\n",
        "    if type(all_text) == dict:\r\n",
        "      result = wordcloud.generate_from_frequencies(all_text)\r\n",
        "    else:\r\n",
        "      result = wordcloud.generate(all_text)\r\n",
        "    \r\n",
        "    plt.imshow(\r\n",
        "    result\r\n",
        "    #interpolation='bilinear'\r\n",
        "    )\r\n",
        "    plt.axis(\"off\")\r\n",
        "    plt.show()\r\n"
      ],
      "outputs": [],
      "metadata": {}
    },
    {
      "cell_type": "code",
      "execution_count": null,
      "source": [
        "\r\n",
        "#좋아요 콤마 지우고 int로 바꿔주기\r\n",
        "#스트링으로 들어온 데이터를 int64로 바꿔준다.\r\n",
        "def make_like(dataFrame, columnName):\r\n",
        "    dataFrame[columnName] = dataFrame[columnName].str.replace(',', '')\r\n",
        "    dataFrame[columnName] = dataFrame[columnName].fillna(0).astype('int64')\r\n",
        "\r\n",
        "    return dataFrame\r\n"
      ],
      "outputs": [],
      "metadata": {}
    },
    {
      "cell_type": "code",
      "execution_count": null,
      "source": [
        "#여기서만 사용할 함수?\r\n",
        "#태그를 한 리스트로 반환\r\n",
        "def make_tags_list(tags_series):\r\n",
        "    result = []\r\n",
        "    for i in tags_series:\r\n",
        "        temp_list = i[2: -2].split(\"', '\")\r\n",
        "        result = result + temp_list\r\n",
        "    return result\r\n"
      ],
      "outputs": [],
      "metadata": {}
    },
    {
      "cell_type": "code",
      "execution_count": null,
      "source": [
        "\r\n",
        "#tag_value_counts 상위 n개 태그의 빈도수 df 반환\r\n",
        "def value_counts_num(listOrSeries, num):\r\n",
        "    if type(listOrSeries) == list:\r\n",
        "      result = pd.DataFrame(Counter(listOrSeries).most_common(num))\r\n",
        "    else:\r\n",
        "      temp = make_tags_list(listOrSeries)\r\n",
        "      result = pd.DataFrame(Counter(temp).most_common(num))\r\n",
        "    return result"
      ],
      "outputs": [],
      "metadata": {}
    },
    {
      "cell_type": "code",
      "execution_count": null,
      "source": [
        "    \r\n",
        "#plot 한글 설정\r\n",
        "def han_font_set():\r\n",
        "    from matplotlib import font_manager, rc\r\n",
        "    font_name = font_manager.FontProperties(fname='/usr/share/fonts/truetype/nanum/NanumBarunGothic.ttf').get_name()\r\n",
        "    matplotlib.rc('font', family = font_name)\r\n",
        "    matplotlib.font_manager._rebuild()"
      ],
      "outputs": [],
      "metadata": {}
    },
    {
      "cell_type": "code",
      "execution_count": null,
      "source": [
        "\r\n",
        "#content 전처리\r\n",
        "def prepro_content(dataFrame):\r\n",
        "    dataFrame = dataFrame.fillna(\"nan\")\r\n",
        "    dataFrame.isnull().sum() # null 사라짐\r\n",
        "\r\n",
        "    def text_cleaner(text):\r\n",
        "        clean = text\r\n",
        "        publisher = \"\\((.*?)\\)\"\r\n",
        "        braces = \"\\[(.*?)\\]\"\r\n",
        "        braces2 = \"\\{(.*?)\\}\"\r\n",
        "        braces3 = \"\\【(.*?)\\】\"\r\n",
        "        weird = \"[=_\\.,;:~…\\\"\\\"\\'\\'◇%\\<\\>/·○★☆ㅡ]\"\r\n",
        "        tab = '\\\\t'\r\n",
        "        newline = '\\\\n'\r\n",
        "\r\n",
        "        clean = re.sub(publisher,'', clean)\r\n",
        "        clean = re.sub(braces,'', clean)\r\n",
        "        clean = re.sub(braces2,'', clean)\r\n",
        "        clean = re.sub(braces3,'', clean)\r\n",
        "        clean = re.sub('[YTN,OSEN]','', clean)\r\n",
        "        clean = re.sub(weird,'', clean)\r\n",
        "        clean = re.sub(tab,'', clean)\r\n",
        "        clean = re.sub(newline,'',clean)\r\n",
        "        \r\n",
        "        return clean\r\n",
        "\r\n",
        "    for idx, text in enumerate(dataFrame['content']):\r\n",
        "        dataFrame['content'][idx] = text_cleaner(text)\r\n"
      ],
      "outputs": [],
      "metadata": {}
    },
    {
      "cell_type": "code",
      "execution_count": null,
      "source": [
        "\r\n",
        "#나중에 학습시킬때 사용 \r\n",
        "def make_vocab(dataframe):\r\n",
        "    okt = Okt()\r\n",
        "\r\n",
        "    sentences_pos = []\r\n",
        "    for line in dataframe['content']:\r\n",
        "        sentences_pos.append(okt.nouns(line))\r\n",
        "\r\n",
        "    max_len = max([len(i) for i in sentences_pos])\r\n",
        "\r\n",
        "    vocab = []\r\n",
        "    for line in sentences_pos:\r\n",
        "        for word in line:\r\n",
        "            vocab.append(word)\r\n",
        "\r\n",
        "    vocab_size = len(vocab) +1\r\n",
        "    vocab = sorted(list(vocab))\r\n",
        "\r\n",
        "   \r\n",
        "    vocab = [item for item in vocab if len(item) != 1]\r\n",
        "\r\n",
        "    return sentences_pos, vocab\r\n"
      ],
      "outputs": [],
      "metadata": {}
    },
    {
      "cell_type": "code",
      "execution_count": null,
      "source": [
        "\r\n",
        "#데이터 로드\r\n",
        "ato = pd.read_excel('atozzang.xlsx')\r\n",
        "bbo = pd.read_excel('bbo.xlsx')\r\n",
        "haewon = pd.read_excel('haewon.xlsx')\r\n",
        "twomuk = pd.read_excel('2muk.xlsx')\r\n",
        "muksta = pd.read_excel('muksta.xlsx')\r\n",
        "dfs = [ato, bbo, haewon, twomuk, muksta]"
      ],
      "outputs": [],
      "metadata": {}
    },
    {
      "cell_type": "code",
      "execution_count": null,
      "source": [
        "#content 분석\r\n",
        "\r\n",
        "#content 전처리\r\n",
        "#1\r\n",
        "for i in dfs:\r\n",
        "  prepro_content(i)\r\n",
        "#2\r\n",
        "sentences_pos = []\r\n",
        "vocab = []\r\n",
        "for i in dfs:\r\n",
        "  tempS, tempV = make_vocab(i)\r\n",
        "  sentences_pos.append(tempS)\r\n",
        "  vocab.append(tempV)\r\n",
        "#3\r\n",
        "vocab_value_counts = []\r\n",
        "for i in vocab:\r\n",
        "  vocab_value_counts.append(value_counts_num(i, 15))\r\n",
        "\r\n"
      ],
      "outputs": [],
      "metadata": {}
    },
    {
      "cell_type": "code",
      "execution_count": null,
      "source": [
        "\r\n",
        "#태그분석\r\n",
        "\r\n",
        "#태그 전처리\r\n",
        "#1\r\n",
        "for i in dfs:\r\n",
        "    rename_Unnamed(i)\r\n",
        "\r\n",
        "#태그수 보기\r\n",
        "tag_value_counts = []\r\n",
        "for i in dfs:\r\n",
        "    tag_value_counts.append(value_counts_num(i['tags'], 15))\r\n",
        "\r\n",
        "\r\n",
        "#워드크라우드 용 text파일\r\n",
        "text_list = []\r\n",
        "for i in dfs:\r\n",
        "    text_list.append(make_all_text(i, 'tags'))\r\n"
      ],
      "outputs": [],
      "metadata": {}
    },
    {
      "cell_type": "code",
      "execution_count": null,
      "source": [
        "\r\n",
        "#content 시각화\r\n",
        "#barplot\r\n",
        "han_font_set()\r\n",
        "\r\n",
        "fig = plt.figure(figsize = (20,20))\r\n",
        "fig.add_subplot(2, 3, 1)\r\n",
        "barh(vocab_value_counts[0][0], vocab_value_counts[0][1])\r\n",
        "fig.add_subplot(2, 3, 2)\r\n",
        "barh(vocab_value_counts[1][0], vocab_value_counts[1][1])\r\n",
        "fig.add_subplot(2,3,3)\r\n",
        "barh(vocab_value_counts[2][0], vocab_value_counts[2][1])\r\n",
        "fig.add_subplot(2,3,4)\r\n",
        "barh(vocab_value_counts[3][0], vocab_value_counts[3][1])\r\n",
        "fig.add_subplot(2,3,5)\r\n",
        "barh(vocab_value_counts[4][0], vocab_value_counts[4][1])\r\n",
        "plt.show()\r\n",
        "\r\n"
      ],
      "outputs": [],
      "metadata": {}
    },
    {
      "cell_type": "code",
      "execution_count": null,
      "source": [
        "\r\n",
        "\r\n",
        "#tag 시각화\r\n",
        "#barplot\r\n",
        "\r\n",
        "fig = plt.figure(figsize = (20,20))\r\n",
        "fig.add_subplot(2, 3, 1)\r\n",
        "barh(tag_value_counts[0][0], tag_value_counts[0][1])\r\n",
        "fig.add_subplot(2, 3, 2)\r\n",
        "barh(tag_value_counts[1][0], tag_value_counts[1][1])\r\n",
        "fig.add_subplot(2,3,3)\r\n",
        "barh(tag_value_counts[2][0], tag_value_counts[2][1])\r\n",
        "fig.add_subplot(2,3,4)\r\n",
        "barh(tag_value_counts[3][0], tag_value_counts[3][1])\r\n",
        "fig.add_subplot(2,3,5)\r\n",
        "barh(tag_value_counts[4][0], tag_value_counts[4][1])\r\n",
        "plt.show()\r\n",
        "\r\n"
      ],
      "outputs": [],
      "metadata": {}
    },
    {
      "cell_type": "code",
      "execution_count": null,
      "source": [
        "\r\n",
        "\r\n",
        "#시각화\r\n",
        "#word cloud\r\n",
        "\r\n",
        "for i in range(len(vocab_value_counts)):\r\n",
        "  temp = vocab_value_counts[i].set_index(0).to_dict()[1]\r\n",
        "  make_wordcloud(temp)\r\n",
        "\r\n",
        "#tag 시각화\r\n",
        "#word cloud\r\n",
        "\r\n",
        "for i in range(len(tag_value_counts)):\r\n",
        "  temp = tag_value_counts[i].set_index(0).to_dict()[1]\r\n",
        "  make_wordcloud(temp)\r\n"
      ],
      "outputs": [],
      "metadata": {}
    }
  ]
}